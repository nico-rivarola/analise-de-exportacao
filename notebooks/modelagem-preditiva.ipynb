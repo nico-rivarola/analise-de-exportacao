{
 "cells": [
  {
   "cell_type": "markdown",
   "id": "1579a33d",
   "metadata": {},
   "source": [
    "# PROJETO DE ANÁLISE: EXPORTAÇÕES\n",
    "# Predição de Faturamento e Classificação de Pedidos"
   ]
  },
  {
   "cell_type": "code",
   "execution_count": 30,
   "id": "cf733cfd",
   "metadata": {},
   "outputs": [
    {
     "name": "stdout",
     "output_type": "stream",
     "text": [
      "Dimensão inicial: (2891, 11)\n"
     ]
    }
   ],
   "source": [
    "file = \"2A - Base de Dados - Exportações.xlsx\"\n",
    "df = pd.read_excel(file, sheet_name=\"Registros de Vendas\")\n",
    "print(\"Dimensão inicial:\", df.shape)  # (2891, 11)\n"
   ]
  },
  {
   "cell_type": "code",
   "execution_count": 34,
   "id": "ef9831f0",
   "metadata": {},
   "outputs": [],
   "source": [
    "import pandas as pd\n",
    "import numpy as np\n",
    "import matplotlib.pyplot as plt\n",
    "import seaborn as sns\n",
    "\n",
    "from sklearn.model_selection import train_test_split\n",
    "from sklearn.preprocessing import LabelEncoder, StandardScaler\n",
    "from sklearn.linear_model import LinearRegression, LogisticRegression\n",
    "from sklearn.ensemble import RandomForestRegressor, RandomForestClassifier\n",
    "from sklearn.metrics import mean_squared_error, r2_score, accuracy_score, precision_score, recall_score, f1_score, confusion_matrix\n",
    "from sklearn.metrics import mean_absolute_error, mean_squared_error, r2_score\n"
   ]
  },
  {
   "cell_type": "code",
   "execution_count": 2,
   "id": "98c283a5",
   "metadata": {},
   "outputs": [
    {
     "name": "stdout",
     "output_type": "stream",
     "text": [
      "Formato inicial: (2891, 11)\n",
      "   Unnamed: 0  ID_Pedido Data_Pedido  ID_Representante Nome_Representante  \\\n",
      "0         NaN  #P1000001  2024-01-01              1004   Isabela Carolina   \n",
      "1         NaN  #P1000002  2024-01-01              1004   Isabela Carolina   \n",
      "2         NaN  #P1000003  2024-01-01              1004   Isabela Carolina   \n",
      "3         NaN  #P1000004  2024-01-01              1004   Isabela Carolina   \n",
      "4         NaN  #P1000005  2024-01-01              1004   Isabela Carolina   \n",
      "\n",
      "  ID_Produto    Nome_Produto     Categoria  Quantidade_Vendida  \\\n",
      "0    SKU9005   Celular Mod 3     Celulares                  32   \n",
      "1    SKU9005   Celular Mod 3     Celulares                  25   \n",
      "2    SKU9011  Notebook Mod 3  Computadores                  40   \n",
      "3    SKU9004   Celular Mod 2     Celulares                  41   \n",
      "4    SKU9011  Notebook Mod 3  Computadores                  38   \n",
      "\n",
      "   Preço_Unitário                       Localidade  \n",
      "0            1800                  Alemanha/Europa  \n",
      "1            1800                  Alemanha/Europa  \n",
      "2            4300  Estados Unidos/América do Norte  \n",
      "3            1200  Estados Unidos/América do Norte  \n",
      "4            4300  Estados Unidos/América do Norte  \n"
     ]
    }
   ],
   "source": [
    "# ---- 2. CARREGAR OS DADOS ----\n",
    "df = pd.read_excel(\"2A - Base de Dados - Exportações.xlsx\")\n",
    "\n",
    "print(\"Formato inicial:\", df.shape)\n",
    "print(df.head())\n",
    "\n"
   ]
  },
  {
   "cell_type": "code",
   "execution_count": 25,
   "id": "95ba7914",
   "metadata": {},
   "outputs": [
    {
     "name": "stdout",
     "output_type": "stream",
     "text": [
      "Colunas disponíveis: ['ID_Representante', 'Nome_Representante', 'ID_Produto', 'Nome_Produto', 'Categoria', 'Quantidade_Vendida', 'Preço_Unitário', 'Localidade', 'Faturamento', 'Pedido_Alto']\n",
      "\n",
      "Valores nulos por coluna:\n",
      "Quantidade_Vendida    0\n",
      "Preço_Unitário        0\n",
      "Faturamento           0\n",
      "dtype: int64\n",
      "\n",
      "Dimensão após remoção de nulos: (0, 10)\n"
     ]
    }
   ],
   "source": [
    "# Conferir nomes das colunas\n",
    "print(\"Colunas disponíveis:\", df.columns.tolist())\n",
    "\n",
    "# Verificar valores nulos antes de dropar\n",
    "print(\"\\nValores nulos por coluna:\")\n",
    "print(df[[\"Quantidade_Vendida\", \"Preço_Unitário\", \"Faturamento\"]].isna().sum())\n",
    "\n",
    "# Garantir que faturamento é numérico\n",
    "df[\"Faturamento\"] = pd.to_numeric(df[\"Faturamento\"], errors=\"coerce\")\n",
    "\n",
    "# Verificar quantas linhas sobram depois da limpeza\n",
    "df = df.dropna(subset=[\"Quantidade_Vendida\", \"Preço_Unitário\", \"Faturamento\"])\n",
    "print(\"\\nDimensão após remoção de nulos:\", df.shape)\n"
   ]
  },
  {
   "cell_type": "code",
   "execution_count": 32,
   "id": "f59ef924",
   "metadata": {},
   "outputs": [
    {
     "name": "stdout",
     "output_type": "stream",
     "text": [
      "Colunas após padronização: ['ID_Representante', 'Nome_Representante', 'ID_Produto', 'Nome_Produto', 'Categoria', 'Quantidade_Vendida', 'Preco_Unitario', 'Localidade', 'Faturamento', 'Pedido_Alto']\n",
      "➡️ Usando 'Quantidade_Vendida' como coluna de quantidade\n",
      "➡️ Usando 'Preco_Unitario' como coluna de preço unitário\n",
      "\n",
      "Valores nulos por coluna:\n",
      "Quantidade_Vendida    0\n",
      "Preco_Unitario        0\n",
      "Faturamento           0\n",
      "dtype: int64\n",
      "\n",
      "📊 Colunas finais: ['ID_Representante', 'Nome_Representante', 'ID_Produto', 'Nome_Produto', 'Categoria', 'Quantidade_Vendida', 'Preco_Unitario', 'Localidade', 'Faturamento', 'Pedido_Alto']\n",
      "📊 Amostras disponíveis: 2891\n",
      "📊 Exemplo de dados:\n",
      "   ID_Representante  Nome_Representante  ID_Produto  Nome_Produto  Categoria  \\\n",
      "0         -0.444827           -0.375157   -0.358580     -0.358580  -0.973711   \n",
      "1         -0.444827           -0.375157   -0.358580     -0.358580  -0.973711   \n",
      "2         -0.444827           -0.375157    1.379802      1.379802   1.026999   \n",
      "3         -0.444827           -0.375157   -0.938041     -0.938041  -0.973711   \n",
      "4         -0.444827           -0.375157    1.379802      1.379802   1.026999   \n",
      "\n",
      "   Quantidade_Vendida  Preco_Unitario  Localidade  Faturamento  Pedido_Alto  \n",
      "0           -0.889605       -0.283569   -1.630653     0.252264    -0.502053  \n",
      "1           -1.068466       -0.283569   -1.630653     0.302984    -0.502053  \n",
      "2           -0.685192        1.836187   -0.069395    -1.258141    -0.502053  \n",
      "3           -0.659640       -0.792310   -0.069395     0.522640    -0.502053  \n",
      "4           -0.736295        1.836187   -0.069395    -1.351976    -0.502053  \n"
     ]
    }
   ],
   "source": [
    "# -------------------------\n",
    "# 3. PREPARAÇÃO DOS DADOS (robusto a nomes diferentes)\n",
    "# -------------------------\n",
    "\n",
    "# Padronizar nomes das colunas para evitar problemas\n",
    "df.columns = (\n",
    "    df.columns\n",
    "    .str.strip()\n",
    "    .str.replace(\" \", \"_\")\n",
    "    .str.replace(\"ç\", \"c\")\n",
    "    .str.replace(\"ã\", \"a\")\n",
    "    .str.replace(\"é\", \"e\")\n",
    "    .str.replace(\"í\", \"i\")\n",
    "    .str.replace(\"ú\", \"u\")\n",
    "    .str.replace(\"ó\", \"o\")\n",
    "    .str.replace(\"á\", \"a\")\n",
    ")\n",
    "\n",
    "print(\"Colunas após padronização:\", df.columns.tolist())\n",
    "\n",
    "# Detectar automaticamente as colunas de preço e quantidade\n",
    "col_preco = [c for c in df.columns if \"preco\" in c.lower()][0]\n",
    "col_qtd = [c for c in df.columns if \"quantidade\" in c.lower()][0]\n",
    "\n",
    "print(f\"➡️ Usando '{col_qtd}' como coluna de quantidade\")\n",
    "print(f\"➡️ Usando '{col_preco}' como coluna de preço unitário\")\n",
    "\n",
    "# Criar Faturamento\n",
    "df[\"Faturamento\"] = df[col_qtd] * df[col_preco]\n",
    "\n",
    "# Criar variável alvo para classificação (20% maiores pedidos)\n",
    "threshold = df[\"Faturamento\"].quantile(0.8)\n",
    "df[\"Pedido_Alto\"] = (df[\"Faturamento\"] >= threshold).astype(int)\n",
    "\n",
    "# Remover colunas irrelevantes se existirem\n",
    "df = df.drop(columns=[\"Unnamed:_0\", \"ID_Pedido\", \"Data_Pedido\"], errors=\"ignore\")\n",
    "\n",
    "# Conferir se há valores nulos\n",
    "print(\"\\nValores nulos por coluna:\")\n",
    "print(df[[col_qtd, col_preco, \"Faturamento\"]].isna().sum())\n",
    "\n",
    "# Dropar apenas se houver nulos nas colunas críticas\n",
    "df = df.dropna(subset=[col_qtd, col_preco, \"Faturamento\"])\n",
    "\n",
    "# Codificação de variáveis categóricas\n",
    "from sklearn.preprocessing import LabelEncoder, StandardScaler\n",
    "label_encoders = {}\n",
    "for col in df.select_dtypes(include=[\"object\"]).columns:\n",
    "    le = LabelEncoder()\n",
    "    df[col] = le.fit_transform(df[col].astype(str))\n",
    "    label_encoders[col] = le\n",
    "\n",
    "# Normalizar variáveis numéricas (exceto target)\n",
    "num_cols = df.select_dtypes(include=[\"int64\", \"float64\"]).columns.drop(\"Faturamento\", errors=\"ignore\")\n",
    "\n",
    "if len(df) > 0 and len(num_cols) > 0:\n",
    "    scaler = StandardScaler()\n",
    "    df[num_cols] = scaler.fit_transform(df[num_cols])\n",
    "else:\n",
    "    print(\"⚠️ Nenhum dado disponível para normalização.\")\n",
    "\n",
    "print(\"\\n📊 Colunas finais:\", df.columns.tolist())\n",
    "print(\"📊 Amostras disponíveis:\", len(df))\n",
    "print(\"📊 Exemplo de dados:\")\n",
    "print(df.head())\n"
   ]
  },
  {
   "cell_type": "code",
   "execution_count": 35,
   "id": "4eea64b4",
   "metadata": {},
   "outputs": [
    {
     "name": "stdout",
     "output_type": "stream",
     "text": [
      "\n",
      "=== Regressão Linear ===\n",
      "R²: 0.007927841682816683\n",
      "MAE: 0.6773313856788157\n",
      "RMSE: 1.1133686380638104\n",
      "\n",
      "=== Random Forest Regressor ===\n",
      "R²: 0.9613000681700301\n",
      "MAE: 0.029261584019954674\n",
      "RMSE: 0.21989859416246063\n"
     ]
    }
   ],
   "source": [
    "# 4. PREDIÇÃO DE FATURAMENTO (REGRESSÃO)\n",
    "# -------------------------\n",
    "X = df.drop(columns=[\"Faturamento\", \"Pedido_Alto\"])\n",
    "y = df[\"Faturamento\"]\n",
    "\n",
    "X_train, X_test, y_train, y_test = train_test_split(X, y, test_size=0.2, random_state=42)\n",
    "\n",
    "# Regressão Linear\n",
    "lr = LinearRegression()\n",
    "lr.fit(X_train, y_train)\n",
    "y_pred_lr = lr.predict(X_test)\n",
    "\n",
    "# Random Forest Regressor\n",
    "rf = RandomForestRegressor(random_state=42)\n",
    "rf.fit(X_train, y_train)\n",
    "y_pred_rf = rf.predict(X_test)\n",
    "\n",
    "print(\"\\n=== Regressão Linear ===\")\n",
    "print(\"R²:\", r2_score(y_test, y_pred_lr))\n",
    "print(\"MAE:\", mean_absolute_error(y_test, y_pred_lr))\n",
    "print(\"RMSE:\", np.sqrt(mean_squared_error(y_test, y_pred_lr)))\n",
    "\n",
    "print(\"\\n=== Random Forest Regressor ===\")\n",
    "print(\"R²:\", r2_score(y_test, y_pred_rf))\n",
    "print(\"MAE:\", mean_absolute_error(y_test, y_pred_rf))\n",
    "print(\"RMSE:\", np.sqrt(mean_squared_error(y_test, y_pred_rf)))\n"
   ]
  },
  {
   "cell_type": "code",
   "execution_count": 36,
   "id": "dc068509",
   "metadata": {},
   "outputs": [
    {
     "name": "stdout",
     "output_type": "stream",
     "text": [
      "Amostras disponíveis para classificação: 2891\n",
      "\n",
      "--- Classificação de Pedidos ---\n",
      "\n",
      "Modelo: Logistic Regression\n",
      "Accuracy: 0.613126079447323\n",
      "Precision: 0.5913621262458472\n",
      "Recall: 0.6379928315412187\n",
      "F1 Score: 0.6137931034482759\n",
      "\n",
      "--- Classificação de Pedidos ---\n",
      "\n",
      "Modelo: Logistic Regression\n",
      "Accuracy: 0.613126079447323\n",
      "Precision: 0.5913621262458472\n",
      "Recall: 0.6379928315412187\n",
      "F1 Score: 0.6137931034482759\n"
     ]
    },
    {
     "data": {
      "image/png": "[encoded data removed]",
      "text/plain": [
       "<Figure size 640x480 with 2 Axes>"
      ]
     },
     "metadata": {},
     "output_type": "display_data"
    },
    {
     "name": "stdout",
     "output_type": "stream",
     "text": [
      "\n",
      "Modelo: Random Forest\n",
      "Accuracy: 1.0\n",
      "Precision: 1.0\n",
      "Recall: 1.0\n",
      "F1 Score: 1.0\n"
     ]
    },
    {
     "data": {
      "image/png": "[encoded data removed]",
      "text/plain": [
       "<Figure size 640x480 with 2 Axes>"
      ]
     },
     "metadata": {},
     "output_type": "display_data"
    }
   ],
   "source": [
    "# ---- 5. CLASSIFICAÇÃO DE PEDIDOS (ALTO vs. BAIXO) ----\n",
    "# Criar uma variável binária (1 = alto faturamento, 0 = baixo)\n",
    "limite = df[target_reg].median()\n",
    "df[\"Pedido_Alto\"] = (df[target_reg] > limite).astype(int)\n",
    "\n",
    "X_clf = df.drop(columns=[target_reg, \"Pedido_Alto\"])\n",
    "y_clf = df[\"Pedido_Alto\"]\n",
    "\n",
    "print(f\"Amostras disponíveis para classificação: {len(X_clf)}\")\n",
    "if len(X_clf) == 0:\n",
    "    print(\"DataFrame vazio após o pré-processamento. Diagnóstico:\")\n",
    "    print(\"Primeiras linhas do DataFrame:\")\n",
    "    print(df.head())\n",
    "    print(\"\\nValores nulos por coluna:\")\n",
    "    print(df.isnull().sum())\n",
    "    print(\"\\nTipos das colunas:\")\n",
    "    print(df.dtypes)\n",
    "    print(\"\\nResumo estatístico:\")\n",
    "    print(df.describe(include='all'))\n",
    "    import sys; sys.exit()  # Interrompe a execução para análise manual\n",
    "\n",
    "X_train, X_test, y_train, y_test = train_test_split(X_clf, y_clf, test_size=0.2, random_state=42)\n",
    "\n",
    "# Modelos\n",
    "log_reg = LogisticRegression(max_iter=1000)\n",
    "rf_clf = RandomForestClassifier(n_estimators=100, random_state=42)\n",
    "\n",
    "log_reg.fit(X_train, y_train)\n",
    "rf_clf.fit(X_train, y_train)\n",
    "\n",
    "# Predições\n",
    "y_pred_log = log_reg.predict(X_test)\n",
    "y_pred_rf_clf = rf_clf.predict(X_test)\n",
    "\n",
    "# Métricas\n",
    "print(\"\\n--- Classificação de Pedidos ---\")\n",
    "for model_name, y_pred in [(\"Logistic Regression\", y_pred_log), (\"Random Forest\", y_pred_rf_clf)]:\n",
    "    print(f\"\\nModelo: {model_name}\")\n",
    "    print(\"Accuracy:\", accuracy_score(y_test, y_pred))\n",
    "    print(\"Precision:\", precision_score(y_test, y_pred))\n",
    "    print(\"Recall:\", recall_score(y_test, y_pred))\n",
    "    print(\"F1 Score:\", f1_score(y_test, y_pred))\n",
    "\n",
    "    # Matriz de confusão\n",
    "    cm = confusion_matrix(y_test, y_pred)\n",
    "    sns.heatmap(cm, annot=True, fmt=\"d\", cmap=\"Blues\", xticklabels=[\"Baixo\", \"Alto\"], yticklabels=[\"Baixo\", \"Alto\"])\n",
    "    plt.title(f\"Matriz de Confusão - {model_name}\")\n",
    "    plt.xlabel(\"Previsto\")\n",
    "    plt.ylabel(\"Real\")\n",
    "    plt.show()"
   ]
  }
 ],
 "metadata": {
  "kernelspec": {
   "display_name": "Python 3",
   "language": "python",
   "name": "python3"
  },
  "language_info": {
   "codemirror_mode": {
    "name": "ipython",
    "version": 3
   },
   "file_extension": ".py",
   "mimetype": "text/x-python",
   "name": "python",
   "nbconvert_exporter": "python",
   "pygments_lexer": "ipython3",
   "version": "3.13.5"
  }
 },
 "nbformat": 4,
 "nbformat_minor": 5
}
