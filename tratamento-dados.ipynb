{
 "cells": [
  {
   "cell_type": "code",
   "execution_count": 1,
   "id": "9e37babf",
   "metadata": {},
   "outputs": [
    {
     "data": {
      "text/plain": [
       "((2891, 11),\n",
       " ['Unnamed: 0',\n",
       "  'ID_Pedido',\n",
       "  'Data_Pedido',\n",
       "  'ID_Representante',\n",
       "  'Nome_Representante',\n",
       "  'ID_Produto',\n",
       "  'Nome_Produto',\n",
       "  'Categoria',\n",
       "  'Quantidade_Vendida',\n",
       "  'Preço_Unitário',\n",
       "  'Localidade'])"
      ]
     },
     "execution_count": 1,
     "metadata": {},
     "output_type": "execute_result"
    }
   ],
   "source": [
    "import pandas as pd\n",
    "file_path = \"2A - Base de Dados - Exportações.xlsx\"\n",
    "df = pd.read_excel(file_path, sheet_name=\"Registros de Vendas\", engine=\"openpyxl\")\n",
    "df.shape, df.columns.tolist()"
   ]
  },
  {
   "cell_type": "code",
   "execution_count": 2,
   "id": "65c3b410",
   "metadata": {},
   "outputs": [
    {
     "data": {
      "text/html": [
       "<div>\n",
       "<style scoped>\n",
       "    .dataframe tbody tr th:only-of-type {\n",
       "        vertical-align: middle;\n",
       "    }\n",
       "\n",
       "    .dataframe tbody tr th {\n",
       "        vertical-align: top;\n",
       "    }\n",
       "\n",
       "    .dataframe thead th {\n",
       "        text-align: right;\n",
       "    }\n",
       "</style>\n",
       "<table border=\"1\" class=\"dataframe\">\n",
       "  <thead>\n",
       "    <tr style=\"text-align: right;\">\n",
       "      <th></th>\n",
       "      <th>Unnamed: 0</th>\n",
       "      <th>ID_Pedido</th>\n",
       "      <th>Data_Pedido</th>\n",
       "      <th>ID_Representante</th>\n",
       "      <th>Nome_Representante</th>\n",
       "      <th>ID_Produto</th>\n",
       "      <th>Nome_Produto</th>\n",
       "      <th>Categoria</th>\n",
       "      <th>Quantidade_Vendida</th>\n",
       "      <th>Preço_Unitário</th>\n",
       "      <th>Localidade</th>\n",
       "    </tr>\n",
       "  </thead>\n",
       "  <tbody>\n",
       "    <tr>\n",
       "      <th>0</th>\n",
       "      <td>NaN</td>\n",
       "      <td>#P1000001</td>\n",
       "      <td>2024-01-01</td>\n",
       "      <td>1004</td>\n",
       "      <td>Isabela Carolina</td>\n",
       "      <td>SKU9005</td>\n",
       "      <td>Celular Mod 3</td>\n",
       "      <td>Celulares</td>\n",
       "      <td>32</td>\n",
       "      <td>1800</td>\n",
       "      <td>Alemanha/Europa</td>\n",
       "    </tr>\n",
       "    <tr>\n",
       "      <th>1</th>\n",
       "      <td>NaN</td>\n",
       "      <td>#P1000002</td>\n",
       "      <td>2024-01-01</td>\n",
       "      <td>1004</td>\n",
       "      <td>Isabela Carolina</td>\n",
       "      <td>SKU9005</td>\n",
       "      <td>Celular Mod 3</td>\n",
       "      <td>Celulares</td>\n",
       "      <td>25</td>\n",
       "      <td>1800</td>\n",
       "      <td>Alemanha/Europa</td>\n",
       "    </tr>\n",
       "    <tr>\n",
       "      <th>2</th>\n",
       "      <td>NaN</td>\n",
       "      <td>#P1000003</td>\n",
       "      <td>2024-01-01</td>\n",
       "      <td>1004</td>\n",
       "      <td>Isabela Carolina</td>\n",
       "      <td>SKU9011</td>\n",
       "      <td>Notebook Mod 3</td>\n",
       "      <td>Computadores</td>\n",
       "      <td>40</td>\n",
       "      <td>4300</td>\n",
       "      <td>Estados Unidos/América do Norte</td>\n",
       "    </tr>\n",
       "    <tr>\n",
       "      <th>3</th>\n",
       "      <td>NaN</td>\n",
       "      <td>#P1000004</td>\n",
       "      <td>2024-01-01</td>\n",
       "      <td>1004</td>\n",
       "      <td>Isabela Carolina</td>\n",
       "      <td>SKU9004</td>\n",
       "      <td>Celular Mod 2</td>\n",
       "      <td>Celulares</td>\n",
       "      <td>41</td>\n",
       "      <td>1200</td>\n",
       "      <td>Estados Unidos/América do Norte</td>\n",
       "    </tr>\n",
       "    <tr>\n",
       "      <th>4</th>\n",
       "      <td>NaN</td>\n",
       "      <td>#P1000005</td>\n",
       "      <td>2024-01-01</td>\n",
       "      <td>1004</td>\n",
       "      <td>Isabela Carolina</td>\n",
       "      <td>SKU9011</td>\n",
       "      <td>Notebook Mod 3</td>\n",
       "      <td>Computadores</td>\n",
       "      <td>38</td>\n",
       "      <td>4300</td>\n",
       "      <td>Estados Unidos/América do Norte</td>\n",
       "    </tr>\n",
       "  </tbody>\n",
       "</table>\n",
       "</div>"
      ],
      "text/plain": [
       "   Unnamed: 0  ID_Pedido Data_Pedido  ID_Representante Nome_Representante  \\\n",
       "0         NaN  #P1000001  2024-01-01              1004   Isabela Carolina   \n",
       "1         NaN  #P1000002  2024-01-01              1004   Isabela Carolina   \n",
       "2         NaN  #P1000003  2024-01-01              1004   Isabela Carolina   \n",
       "3         NaN  #P1000004  2024-01-01              1004   Isabela Carolina   \n",
       "4         NaN  #P1000005  2024-01-01              1004   Isabela Carolina   \n",
       "\n",
       "  ID_Produto    Nome_Produto     Categoria  Quantidade_Vendida  \\\n",
       "0    SKU9005   Celular Mod 3     Celulares                  32   \n",
       "1    SKU9005   Celular Mod 3     Celulares                  25   \n",
       "2    SKU9011  Notebook Mod 3  Computadores                  40   \n",
       "3    SKU9004   Celular Mod 2     Celulares                  41   \n",
       "4    SKU9011  Notebook Mod 3  Computadores                  38   \n",
       "\n",
       "   Preço_Unitário                       Localidade  \n",
       "0            1800                  Alemanha/Europa  \n",
       "1            1800                  Alemanha/Europa  \n",
       "2            4300  Estados Unidos/América do Norte  \n",
       "3            1200  Estados Unidos/América do Norte  \n",
       "4            4300  Estados Unidos/América do Norte  "
      ]
     },
     "execution_count": 2,
     "metadata": {},
     "output_type": "execute_result"
    }
   ],
   "source": [
    "df.head()\n"
   ]
  },
  {
   "cell_type": "code",
   "execution_count": 3,
   "id": "255adb31",
   "metadata": {},
   "outputs": [
    {
     "data": {
      "text/plain": [
       "Index(['id_pedido', 'data_pedido', 'id_representante', 'nome_representante',\n",
       "       'id_produto', 'nome_produto', 'categoria', 'quantidade_vendida',\n",
       "       'preco_unitario', 'localidade'],\n",
       "      dtype='object')"
      ]
     },
     "execution_count": 3,
     "metadata": {},
     "output_type": "execute_result"
    }
   ],
   "source": [
    "df = df.drop(columns=[\"Unnamed: 0\"], errors=\"ignore\")\n",
    "\n",
    "# Renomear para nomes sem acentos / sem espaços\n",
    "df = df.rename(columns={\n",
    "    \"ID_Pedido\":\"id_pedido\",\n",
    "    \"Data_Pedido\":\"data_pedido\",\n",
    "    \"ID_Representante\":\"id_representante\",\n",
    "    \"Nome_Representante\":\"nome_representante\",\n",
    "    \"ID_Produto\":\"id_produto\",\n",
    "    \"Nome_Produto\":\"nome_produto\",\n",
    "    \"Categoria\":\"categoria\",\n",
    "    \"Quantidade_Vendida\":\"quantidade_vendida\",\n",
    "    \"Preço_Unitário\":\"preco_unitario\",\n",
    "    \"Localidade\":\"localidade\"\n",
    "})\n",
    "df.columns\n"
   ]
  },
  {
   "cell_type": "code",
   "execution_count": 4,
   "id": "cf00285a",
   "metadata": {},
   "outputs": [],
   "source": [
    "str_cols = [\"nome_representante\",\"nome_produto\",\"categoria\",\"localidade\"]\n",
    "for c in str_cols:\n",
    "    df[c] = df[c].astype(str).str.strip()\n",
    "    df[c] = df[c].str.replace(r\"\\s+\", \" \", regex=True)  # múltiplos espaços -> 1\n",
    "    df[c] = df[c].str.title()  # opcional: deixa em Title Case\n"
   ]
  },
  {
   "cell_type": "code",
   "execution_count": 5,
   "id": "c429da0b",
   "metadata": {},
   "outputs": [
    {
     "name": "stdout",
     "output_type": "stream",
     "text": [
      "Registros com data inválida: 0\n"
     ]
    },
    {
     "data": {
      "text/html": [
       "<div>\n",
       "<style scoped>\n",
       "    .dataframe tbody tr th:only-of-type {\n",
       "        vertical-align: middle;\n",
       "    }\n",
       "\n",
       "    .dataframe tbody tr th {\n",
       "        vertical-align: top;\n",
       "    }\n",
       "\n",
       "    .dataframe thead th {\n",
       "        text-align: right;\n",
       "    }\n",
       "</style>\n",
       "<table border=\"1\" class=\"dataframe\">\n",
       "  <thead>\n",
       "    <tr style=\"text-align: right;\">\n",
       "      <th></th>\n",
       "      <th>id_pedido</th>\n",
       "      <th>data_pedido</th>\n",
       "      <th>id_representante</th>\n",
       "      <th>nome_representante</th>\n",
       "      <th>id_produto</th>\n",
       "      <th>nome_produto</th>\n",
       "      <th>categoria</th>\n",
       "      <th>quantidade_vendida</th>\n",
       "      <th>preco_unitario</th>\n",
       "      <th>localidade</th>\n",
       "    </tr>\n",
       "  </thead>\n",
       "  <tbody>\n",
       "  </tbody>\n",
       "</table>\n",
       "</div>"
      ],
      "text/plain": [
       "Empty DataFrame\n",
       "Columns: [id_pedido, data_pedido, id_representante, nome_representante, id_produto, nome_produto, categoria, quantidade_vendida, preco_unitario, localidade]\n",
       "Index: []"
      ]
     },
     "execution_count": 5,
     "metadata": {},
     "output_type": "execute_result"
    }
   ],
   "source": [
    "df[\"data_pedido\"] = pd.to_datetime(df[\"data_pedido\"], errors=\"coerce\", dayfirst=True)\n",
    "# Ver quantos viraram NaT (datas inválidas)\n",
    "invalid_dates = df[df[\"data_pedido\"].isna()]\n",
    "print(\"Registros com data inválida:\", len(invalid_dates))\n",
    "invalid_dates.head()\n"
   ]
  },
  {
   "cell_type": "code",
   "execution_count": 6,
   "id": "521e00f5",
   "metadata": {},
   "outputs": [],
   "source": [
    "# remover símbolos de moeda e ajustar vírgula -> ponto se necessário\n",
    "df[\"preco_unitario\"] = (\n",
    "    df[\"preco_unitario\"]\n",
    "    .astype(str)\n",
    "    .str.replace(r\"[^\\d\\-,\\.]\", \"\", regex=True)  # remove símbolos não numéricos\n",
    "    .str.replace(\",\", \".\", regex=False)          # vírgula decimal -> ponto\n",
    ")\n",
    "\n",
    "df[\"preco_unitario\"] = pd.to_numeric(df[\"preco_unitario\"], errors=\"coerce\")\n",
    "df[\"quantidade_vendida\"] = pd.to_numeric(df[\"quantidade_vendida\"], errors=\"coerce\").fillna(0).astype(int)\n"
   ]
  },
  {
   "cell_type": "code",
   "execution_count": 7,
   "id": "3e3935e3",
   "metadata": {},
   "outputs": [
    {
     "data": {
      "text/plain": [
       "preco_unitario        0\n",
       "quantidade_vendida    0\n",
       "dtype: int64"
      ]
     },
     "execution_count": 7,
     "metadata": {},
     "output_type": "execute_result"
    }
   ],
   "source": [
    "df[[\"preco_unitario\",\"quantidade_vendida\"]].isna().sum()\n"
   ]
  },
  {
   "cell_type": "code",
   "execution_count": 8,
   "id": "36791a8c",
   "metadata": {},
   "outputs": [],
   "source": [
    "# mostrar amostra de valores estranhos\n",
    "df.query(\"quantidade_vendida <= 0 or preco_unitario <= 0\").head()\n",
    "\n",
    "# remover registros sem preço ou sem quantidade (opção)\n",
    "df = df[ (df[\"quantidade_vendida\"] > 0) & (df[\"preco_unitario\"].notna()) ]\n"
   ]
  },
  {
   "cell_type": "code",
   "execution_count": 9,
   "id": "d4e9213d",
   "metadata": {},
   "outputs": [
    {
     "name": "stdout",
     "output_type": "stream",
     "text": [
      "Duplicados por id_pedido: 0\n"
     ]
    }
   ],
   "source": [
    "dups = df[df.duplicated(subset=[\"id_pedido\"], keep=False)].sort_values(\"id_pedido\")\n",
    "print(\"Duplicados por id_pedido:\", dups.shape[0])\n",
    "# Inspecione e decida: somar quantidades/valores ou manter primeiro\n"
   ]
  },
  {
   "cell_type": "code",
   "execution_count": 10,
   "id": "dcc5386c",
   "metadata": {},
   "outputs": [],
   "source": [
    "df = df.drop_duplicates()\n"
   ]
  },
  {
   "cell_type": "code",
   "execution_count": 11,
   "id": "34691968",
   "metadata": {},
   "outputs": [],
   "source": [
    "df[\"faturamento\"] = df[\"quantidade_vendida\"] * df[\"preco_unitario\"]\n",
    "\n",
    "# criar ano, mes, ano_mes\n",
    "df[\"ano\"] = df[\"data_pedido\"].dt.year\n",
    "df[\"mes\"] = df[\"data_pedido\"].dt.month\n",
    "df[\"ano_mes\"] = df[\"data_pedido\"].dt.to_period(\"M\").astype(str)\n"
   ]
  },
  {
   "cell_type": "code",
   "execution_count": 12,
   "id": "dace8a18",
   "metadata": {},
   "outputs": [
    {
     "data": {
      "text/plain": [
       "(198,\n",
       "     id_pedido data_pedido  id_representante nome_representante id_produto  \\\n",
       " 12  #P1000013  2024-01-01              1001        Maria Silva    SKU9011   \n",
       " 26  #P1000027  2024-01-03              1001        Maria Silva    SKU9011   \n",
       " 29  #P1000030  2024-01-03              1001        Maria Silva    SKU9011   \n",
       " 33  #P1000034  2024-01-03              1001        Maria Silva    SKU9011   \n",
       " 36  #P1000037  2024-01-03              1001        Maria Silva    SKU9011   \n",
       " \n",
       "       nome_produto     categoria  quantidade_vendida  preco_unitario  \\\n",
       " 12  Notebook Mod 3  Computadores                  90            4300   \n",
       " 26  Notebook Mod 3  Computadores                 100            4300   \n",
       " 29  Notebook Mod 3  Computadores                  98            4300   \n",
       " 33  Notebook Mod 3  Computadores                 100            4300   \n",
       " 36  Notebook Mod 3  Computadores                  91            4300   \n",
       " \n",
       "                          localidade  faturamento   ano  mes  ano_mes  \n",
       " 12                       Japão/Ásia       387000  2024    1  2024-01  \n",
       " 26  Estados Unidos/América Do Norte       430000  2024    1  2024-01  \n",
       " 29  Estados Unidos/América Do Norte       421400  2024    1  2024-01  \n",
       " 33                    Itália/Europa       430000  2024    1  2024-01  \n",
       " 36                    Itália/Europa       391300  2024    1  2024-01  )"
      ]
     },
     "execution_count": 12,
     "metadata": {},
     "output_type": "execute_result"
    }
   ],
   "source": [
    "# IQR\n",
    "Q1 = df[\"faturamento\"].quantile(0.25)\n",
    "Q3 = df[\"faturamento\"].quantile(0.75)\n",
    "IQR = Q3 - Q1\n",
    "limite_sup = Q3 + 1.5*IQR\n",
    "outliers = df[df[\"faturamento\"] > limite_sup]\n",
    "len(outliers), outliers.head()\n"
   ]
  },
  {
   "cell_type": "code",
   "execution_count": 13,
   "id": "ee9fbff2",
   "metadata": {},
   "outputs": [],
   "source": [
    "# Exemplo de padronização de localidade\n",
    "map_local = {\"Brasil\":\"Brazil\", \"Br\":\"Brazil\", \"United States\":\"United States\"}  # estenda conforme necessário\n",
    "df[\"localidade\"] = df[\"localidade\"].replace(map_local)\n"
   ]
  },
  {
   "cell_type": "code",
   "execution_count": 14,
   "id": "01930710",
   "metadata": {},
   "outputs": [
    {
     "data": {
      "text/plain": [
       "localidade\n",
       "Estados Unidos/América Do Norte    783\n",
       "China/Ásia                         633\n",
       "Japão/Ásia                         301\n",
       "França/Europa                      283\n",
       "Alemanha/Europa                    214\n",
       "Rússia/Europa                      189\n",
       "Itália/Europa                      178\n",
       "Canadá/América Do Norte            151\n",
       "Portugal/Europa                     64\n",
       "Índia/Ásia                          63\n",
       "Espanha/Europa                      32\n",
       "Name: count, dtype: int64"
      ]
     },
     "execution_count": 14,
     "metadata": {},
     "output_type": "execute_result"
    }
   ],
   "source": [
    "df[\"localidade\"].value_counts().head(30)\n"
   ]
  },
  {
   "cell_type": "code",
   "execution_count": 15,
   "id": "205fedb0",
   "metadata": {},
   "outputs": [
    {
     "name": "stdout",
     "output_type": "stream",
     "text": [
      "<class 'pandas.core.frame.DataFrame'>\n",
      "RangeIndex: 2891 entries, 0 to 2890\n",
      "Data columns (total 14 columns):\n",
      " #   Column              Non-Null Count  Dtype         \n",
      "---  ------              --------------  -----         \n",
      " 0   id_pedido           2891 non-null   object        \n",
      " 1   data_pedido         2891 non-null   datetime64[ns]\n",
      " 2   id_representante    2891 non-null   int64         \n",
      " 3   nome_representante  2891 non-null   object        \n",
      " 4   id_produto          2891 non-null   object        \n",
      " 5   nome_produto        2891 non-null   object        \n",
      " 6   categoria           2891 non-null   object        \n",
      " 7   quantidade_vendida  2891 non-null   int64         \n",
      " 8   preco_unitario      2891 non-null   int64         \n",
      " 9   localidade          2891 non-null   object        \n",
      " 10  faturamento         2891 non-null   int64         \n",
      " 11  ano                 2891 non-null   int32         \n",
      " 12  mes                 2891 non-null   int32         \n",
      " 13  ano_mes             2891 non-null   object        \n",
      "dtypes: datetime64[ns](1), int32(2), int64(4), object(7)\n",
      "memory usage: 293.7+ KB\n",
      "None\n",
      "       quantidade_vendida  preco_unitario    faturamento\n",
      "count         2891.000000     2891.000000    2891.000000\n",
      "mean            66.815981     2134.435835  144983.147008\n",
      "std             39.143221     1179.584952  128525.634145\n",
      "min              7.000000      800.000000    5600.000000\n",
      "25%             34.000000     1200.000000   56000.000000\n",
      "50%             62.000000     1800.000000  106200.000000\n",
      "75%             93.000000     2220.000000  186480.000000\n",
      "max            307.000000     4300.000000  924500.000000\n",
      "ano\n",
      "2024    419146278\n",
      "Name: faturamento, dtype: int64\n"
     ]
    }
   ],
   "source": [
    "# tipos e nulos\n",
    "print(df.info())\n",
    "\n",
    "# estatísticas básicas\n",
    "print(df[[\"quantidade_vendida\",\"preco_unitario\",\"faturamento\"]].describe())\n",
    "\n",
    "# total faturamento por ano (sanity check)\n",
    "print(df.groupby(\"ano\")[\"faturamento\"].sum())\n"
   ]
  },
  {
   "cell_type": "code",
   "execution_count": 16,
   "id": "b2dcde2c",
   "metadata": {},
   "outputs": [],
   "source": [
    "df.to_csv(\"exportacoes_preparadas_v1.csv\", index=False)\n",
    "# e salvar versão Excel se preferir\n",
    "df.to_excel(\"exportacoes_preparadas_v1.xlsx\", index=False)\n"
   ]
  },
  {
   "cell_type": "code",
   "execution_count": 17,
   "id": "f62dc8db",
   "metadata": {},
   "outputs": [],
   "source": [
    "# por representante\n",
    "df.groupby(\"nome_representante\").agg(total_faturamento=(\"faturamento\",\"sum\"),\n",
    "                                     total_pedidos=(\"id_pedido\",\"nunique\"),\n",
    "                                     media_ticket=(\"faturamento\",\"mean\")).reset_index().to_csv(\"agg_representante.csv\", index=False)\n",
    "\n",
    "# por produto\n",
    "df.groupby(\"nome_produto\").agg(total_faturamento=(\"faturamento\",\"sum\"),\n",
    "                               total_quantidade=(\"quantidade_vendida\",\"sum\")).sort_values(\"total_faturamento\", ascending=False).to_csv(\"agg_produto.csv\", index=False)\n",
    "\n",
    "# vendas mensais\n",
    "df.groupby(\"ano_mes\").agg(faturamento=(\"faturamento\",\"sum\")).reset_index().to_csv(\"vendas_mensais.csv\", index=False)\n"
   ]
  }
 ],
 "metadata": {
  "kernelspec": {
   "display_name": "Python 3",
   "language": "python",
   "name": "python3"
  },
  "language_info": {
   "codemirror_mode": {
    "name": "ipython",
    "version": 3
   },
   "file_extension": ".py",
   "mimetype": "text/x-python",
   "name": "python",
   "nbconvert_exporter": "python",
   "pygments_lexer": "ipython3",
   "version": "3.13.5"
  }
 },
 "nbformat": 4,
 "nbformat_minor": 5
}
